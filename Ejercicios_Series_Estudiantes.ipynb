{
 "cells": [
  {
   "cell_type": "markdown",
   "metadata": {
    "collapsed": true
   },
   "source": [
    "# Pandas\n",
    "## Herramienta de python para analizar datos. "
   ]
  },
  {
   "cell_type": "code",
   "execution_count": 3,
   "metadata": {},
   "outputs": [],
   "source": [
    "import pandas as pd\n",
    "import numpy as np"
   ]
  },
  {
   "cell_type": "markdown",
   "metadata": {},
   "source": [
    "# Series\n",
    "### Estructura para guardar datos. Es un listado de objetos (data) donde cada objeto tiene un indice.\n",
    "### Se crea usando dos parametros: Data e Indice"
   ]
  },
  {
   "cell_type": "code",
   "execution_count": 4,
   "metadata": {},
   "outputs": [],
   "source": [
    "data = np.random.randint(0, 100, 10)  # Crear un listado de numeros aleatorios \n",
    "indice = range(1, 11)  # Un listado de numeros para \"label\" los datos.  "
   ]
  },
  {
   "cell_type": "code",
   "execution_count": 5,
   "metadata": {
    "collapsed": true
   },
   "outputs": [],
   "source": [
    "serie = pd.Series(data, indice)  # Crear la serie"
   ]
  },
  {
   "cell_type": "code",
   "execution_count": 6,
   "metadata": {},
   "outputs": [
    {
     "data": {
      "text/plain": [
       "1     26\n2      6\n3     92\n4     98\n5     75\n6     15\n7     84\n8     25\n9     52\n10    85\ndtype: int32"
      ]
     },
     "execution_count": 6,
     "metadata": {},
     "output_type": "execute_result"
    }
   ],
   "source": [
    "serie"
   ]
  },
  {
   "cell_type": "markdown",
   "metadata": {},
   "source": [
    "### El indice puede ser cualquier objeto de pandas o python. Por ejemplo un rango de fechas\n",
    "### Ver https://pandas.pydata.org/pandas-docs/stable/timeseries.html#offset-aliases para  una lista de frecuencias"
   ]
  },
  {
   "cell_type": "code",
   "execution_count": 7,
   "metadata": {},
   "outputs": [],
   "source": [
    "indice_2 = pd.date_range(start=\"2015-01-01\", end=\"2018-12-31\", freq=\"D\")  # Crear un listado de fechas diarias de 4 años\n",
    "data_2 = np.random.randint(1, 100, len(indice_2))  # Numeros aleatorios para cada fecha"
   ]
  },
  {
   "cell_type": "code",
   "execution_count": 8,
   "metadata": {},
   "outputs": [],
   "source": [
    "# Crear serie_2 con los nuevos pararametros\n",
    "serie_2 = pd.Series(data_2, indice_2)"
   ]
  },
  {
   "cell_type": "markdown",
   "metadata": {},
   "source": [
    "## Para datos grandes es imposible trabajar con los datos visualmente. Hay que usar información sobre los datos y trabajar con los datos indirectamente. "
   ]
  },
  {
   "cell_type": "code",
   "execution_count": 9,
   "metadata": {
    "collapsed": true
   },
   "outputs": [
    {
     "name": "stdout",
     "output_type": "stream",
     "text": [
      "1461\n\n2015-01-01     4\n2015-01-02    99\n2015-01-03    71\n2015-01-04    55\n2015-01-05    48\nFreq: D, dtype: int32\n\n\n2018-12-27    53\n2018-12-28    57\n2018-12-29    24\n2018-12-30    95\n2018-12-31    23\nFreq: D, dtype: int32\n\n\n49.42299794661191\n\n49.0\n\n28.61780013262406\n"
     ]
    }
   ],
   "source": [
    "# Informacion util de datos grandes:\n",
    "print(str(len(serie_2)) + \"\\n\")  # El largo de la serie\n",
    "print(serie_2.head())  # Los primeros cinco datos\n",
    "print(\"\\n\")  \n",
    "print(serie_2.tail())  # Los ultimos cinco datos\n",
    "print(\"\\n\")\n",
    "print(str(serie_2.mean()) + \"\\n\")  # El valor promedio\n",
    "print(str(serie_2.median()) + \"\\n\")  # El valor medio\n",
    "print(serie_2.std())  # La deviacion estandar"
   ]
  },
  {
   "cell_type": "markdown",
   "metadata": {},
   "source": [
    "## Uno puede accesar los datos usando \"indexing\""
   ]
  },
  {
   "cell_type": "code",
   "execution_count": 40,
   "metadata": {
    "collapsed": false
   },
   "outputs": [
    {
     "name": "stdout",
     "output_type": "stream",
     "text": [
      "23\n2015-01-01     4\n2015-01-02    99\n2015-01-03    71\n2015-01-04    55\n2015-01-05    48\nFreq: D, dtype: int32\n2016-01-01    85\n2016-01-02    65\n2016-01-03     1\n2016-01-04    79\n2016-01-05    68\nFreq: D, dtype: int32\n2015-01-01     4\n2015-01-02    99\n2015-01-03    71\n2015-01-04    55\n2015-01-05    48\nFreq: D, dtype: int32\n"
     ]
    }
   ],
   "source": [
    "print(serie_2[1000])  # El punto de dato numero 1000 \n",
    "print(serie_2[:366].head())  # Los primeros 365 datos (Mostrando solo los primeros 5)\n",
    "print(serie_2[365:].head())  # Los datos despues del valor 365 (Mostrando solo los primeros 5)\n",
    "print(serie_2[:-365].head())  # Los datos excepto los ultimos 365 (Mostrando solo los primeros 5)"
   ]
  },
  {
   "cell_type": "markdown",
   "metadata": {},
   "source": [
    "### Tambien es posible filtar ciertos valores del data.\n",
    "### Se puede usar: <, >, ==, !="
   ]
  },
  {
   "cell_type": "code",
   "execution_count": 25,
   "metadata": {},
   "outputs": [],
   "source": [
    "serie_filtrada = serie_2[serie_2 > 40]  # Crear una nueva solo con los valores mayores a 40. "
   ]
  },
  {
   "cell_type": "markdown",
   "metadata": {},
   "source": [
    "## Sorting\n",
    "### Util para acomodar los datos. Uno puede ordenar los indices o los valores. "
   ]
  },
  {
   "cell_type": "code",
   "execution_count": 27,
   "metadata": {
    "collapsed": false
   },
   "outputs": [
    {
     "data": {
      "text/plain": [
       "2018-03-07    1\n2016-10-12    1\n2016-08-13    1\n2018-11-24    1\n2016-08-04    1\ndtype: int32"
      ]
     },
     "execution_count": 27,
     "metadata": {},
     "output_type": "execute_result"
    }
   ],
   "source": [
    "serie_ordenada = serie_2.sort_values()\n",
    "serie_ordenada.head()"
   ]
  },
  {
   "cell_type": "code",
   "execution_count": 28,
   "metadata": {},
   "outputs": [
    {
     "data": {
      "text/plain": [
       "2015-09-21    99\n2015-01-02    99\n2016-07-15    99\n2018-11-17    99\n2015-12-04    99\ndtype: int32"
      ]
     },
     "execution_count": 28,
     "metadata": {},
     "output_type": "execute_result"
    }
   ],
   "source": [
    "serie_ordenada = serie_2.sort_values(ascending=False)\n",
    "serie_ordenada.head()"
   ]
  },
  {
   "cell_type": "markdown",
   "metadata": {},
   "source": [
    "## Resampling\n",
    "### Es posible reorganizar los datos a otras frecuencias y aplicar transformaciones. "
   ]
  },
  {
   "cell_type": "code",
   "execution_count": 12,
   "metadata": {},
   "outputs": [
    {
     "data": {
      "text/plain": [
       "2015-01-31    1542\n2015-02-28    1307\n2015-03-31    1777\n2015-04-30    1402\n2015-05-31    1667\nFreq: M, dtype: int32"
      ]
     },
     "execution_count": 12,
     "metadata": {},
     "output_type": "execute_result"
    }
   ],
   "source": [
    "# Crear una nueva serie con los valores sumados de cada mes para los cuatro años\n",
    "serie_meses = serie_2.resample(\"M\").sum()  # Hay que especificar la nueva frecuencia. \n",
    "serie_meses.head()"
   ]
  },
  {
   "cell_type": "markdown",
   "metadata": {},
   "source": [
    "## Ejercicio 1:\n",
    "### Crear una nuevas series con los valores sumados de cada año y una con los valores promedios"
   ]
  },
  {
   "cell_type": "code",
   "execution_count": 13,
   "metadata": {},
   "outputs": [],
   "source": [
    "# Hacer ejercicio"
   ]
  },
  {
   "cell_type": "markdown",
   "metadata": {},
   "source": [
    "### Es posible usar resample con funciones costumizadas. "
   ]
  },
  {
   "cell_type": "code",
   "execution_count": 14,
   "metadata": {},
   "outputs": [],
   "source": [
    "# Simple funcion para costumizar una nueva serie. \n",
    "# Funciones pueden llegar a ser mucho mas complejas\n",
    "# La funcion va a actuar en los datos de la serie como si fuera un listado. \n",
    "\n",
    "\n",
    "def funcion_a(listado, numero):\n",
    "    return sum(listado) + numero "
   ]
  },
  {
   "cell_type": "code",
   "execution_count": 15,
   "metadata": {},
   "outputs": [
    {
     "data": {
      "text/plain": [
       "2015-01-31    1547\n2015-02-28    1312\n2015-03-31    1782\n2015-04-30    1407\n2015-05-31    1672\nFreq: M, dtype: int32"
      ]
     },
     "execution_count": 15,
     "metadata": {},
     "output_type": "execute_result"
    }
   ],
   "source": [
    "# Crear una serie \n",
    "serie_personalizada = serie_2.resample(\"M\").apply(funcion_a, numero=5) \n",
    "serie_personalizada.head()"
   ]
  },
  {
   "cell_type": "markdown",
   "metadata": {},
   "source": [
    "## Groupby\n",
    "### Parecido a resample pero es util para crear multi-indices"
   ]
  },
  {
   "cell_type": "code",
   "execution_count": 16,
   "metadata": {},
   "outputs": [],
   "source": [
    "# Crear una serie agrupada por cada mes con el valor promedio de cada año para ese mes. \n",
    "serie_promedio = (serie_2.groupby([serie_2.index.year, serie_2.index.month])).mean()"
   ]
  },
  {
   "cell_type": "code",
   "execution_count": 17,
   "metadata": {
    "collapsed": false
   },
   "outputs": [
    {
     "data": {
      "text/plain": [
       "2015  1     49.741935\n      2     46.678571\n      3     57.322581\n      4     46.733333\n      5     53.774194\n      6     43.933333\n      7     51.032258\n      8     46.290323\n      9     47.466667\n      10    51.838710\n      11    40.800000\n      12    49.354839\n2016  1     47.064516\n      2     38.931034\n      3     49.354839\n      4     47.333333\n      5     51.354839\n      6     47.166667\n      7     49.096774\n      8     47.419355\n      9     46.633333\n      10    52.064516\n      11    55.600000\n      12    45.193548\n2017  1     55.516129\n      2     51.571429\n      3     44.741935\n      4     44.633333\n      5     44.129032\n      6     48.066667\n      7     52.612903\n      8     46.548387\n      9     47.300000\n      10    52.612903\n      11    48.900000\n      12    50.870968\n2018  1     53.580645\n      2     59.321429\n      3     48.870968\n      4     44.833333\n      5     49.096774\n      6     50.366667\n      7     50.935484\n      8     56.225806\n      9     53.533333\n      10    56.967742\n      11    47.666667\n      12    50.483871\ndtype: float64"
      ]
     },
     "execution_count": 17,
     "metadata": {},
     "output_type": "execute_result"
    }
   ],
   "source": [
    "serie_promedio.loc[2015:2018]  # Los primeros seis meses con el valor promedio de cada año."
   ]
  },
  {
   "cell_type": "markdown",
   "metadata": {},
   "source": [
    "## Droping\n",
    "### Es posible remover ciertos indices"
   ]
  },
  {
   "cell_type": "code",
   "execution_count": 18,
   "metadata": {
    "collapsed": true
   },
   "outputs": [
    {
     "data": {
      "text/plain": [
       "2015  7     51.032258\n      8     46.290323\n      9     47.466667\n      10    51.838710\n      11    40.800000\n      12    49.354839\n2016  7     49.096774\n      8     47.419355\n      9     46.633333\n      10    52.064516\n      11    55.600000\n      12    45.193548\ndtype: float64"
      ]
     },
     "execution_count": 18,
     "metadata": {},
     "output_type": "execute_result"
    }
   ],
   "source": [
    "# Los primeros seis meses removidos de todos los años.\n",
    "serie_promedio_drop = serie_promedio.drop(range(1, 7), level=1) \n",
    "serie_promedio_drop.loc[2015:2016]"
   ]
  },
  {
   "cell_type": "code",
   "execution_count": 19,
   "metadata": {
    "collapsed": false
   },
   "outputs": [
    {
     "data": {
      "text/plain": [
       "2015  7     51.032258\n      8     46.290323\n      9     47.466667\n      10    51.838710\n      11    40.800000\n      12    49.354839\n2016  1     47.064516\n      2     38.931034\n      3     49.354839\n      4     47.333333\n      5     51.354839\n      6     47.166667\n      7     49.096774\n      8     47.419355\n      9     46.633333\n      10    52.064516\n      11    55.600000\n      12    45.193548\n2017  1     55.516129\n      2     51.571429\n      3     44.741935\n      4     44.633333\n      5     44.129032\n      6     48.066667\n      7     52.612903\n      8     46.548387\n      9     47.300000\n      10    52.612903\n      11    48.900000\n      12    50.870968\n2018  1     53.580645\n      2     59.321429\n      3     48.870968\n      4     44.833333\n      5     49.096774\n      6     50.366667\n      7     50.935484\n      8     56.225806\n      9     53.533333\n      10    56.967742\n      11    47.666667\n      12    50.483871\ndtype: float64"
      ]
     },
     "execution_count": 19,
     "metadata": {},
     "output_type": "execute_result"
    }
   ],
   "source": [
    "# Remover los primeros 6 meses de 2015 (Más complicado)\n",
    "\n",
    "# Hacer una copia sin 2015\n",
    "serie_quince = serie_promedio.drop(2015, level=0)\n",
    "\n",
    "# Hacer los cambios solo a la sub-serie de 2015 y crear el multi-indice\n",
    "quince = serie_promedio[2015]\n",
    "quince = quince.drop(range(1, 7))\n",
    "quince.index = pd.MultiIndex.from_product([[2015], [x for x in range(7, 13)]])\n",
    "\n",
    "# Agregar la nueva sub-serie (quince) a serie_quince y ponerlas en orden\n",
    "serie_quince = serie_quince.append(quince)\n",
    "serie_quince.sort_index(level=0)\n"
   ]
  },
  {
   "cell_type": "markdown",
   "metadata": {},
   "source": [
    "## Ejercicio 2\n",
    "### Crear una nueve serie solo con los meses y los años pares de serie_promedio"
   ]
  },
  {
   "cell_type": "code",
   "execution_count": 20,
   "metadata": {},
   "outputs": [
    {
     "data": {
      "text/plain": [
       "2015  2     46.678571\n      4     46.733333\n      6     43.933333\n      8     46.290323\n      10    51.838710\n      12    49.354839\n2017  2     51.571429\n      4     44.633333\n      6     48.066667\n      8     46.548387\n      10    52.612903\n      12    50.870968\ndtype: float64"
      ]
     },
     "execution_count": 20,
     "metadata": {},
     "output_type": "execute_result"
    }
   ],
   "source": [
    "# Utilizar este listado para el ejercicio \n",
    "pares = [x for x in range(1, 12) if x % 2]  # Listado de numeros pares \n",
    "# Remover meses y años pares de serie_promedio"
   ]
  },
  {
   "cell_type": "markdown",
   "metadata": {},
   "source": [
    "## Ejerecicio 3\n",
    "### Crear una serie con el valor promedio de cada mes por cada año hasta 2017 que tienen un valor mayor al promedio de 2018\n",
    "### Mes debe estar en el nivel 0 de la serie. "
   ]
  },
  {
   "cell_type": "code",
   "execution_count": 21,
   "metadata": {
    "collapsed": false
   },
   "outputs": [
    {
     "data": {
      "text/plain": [
       "1   2017    55.516129\n3   2015    57.322581\n    2016    49.354839\n4   2015    46.733333\n    2016    47.333333\n5   2015    53.774194\n    2016    51.354839\n7   2015    51.032258\n    2017    52.612903\n11  2016    55.600000\n    2017    48.900000\n12  2017    50.870968\ndtype: float64"
      ]
     },
     "execution_count": 21,
     "metadata": {},
     "output_type": "execute_result"
    }
   ],
   "source": [
    "# Crear una serie con los promedios a través de los cuatro años. (EJERCICIO)\n",
    "# Crear una serie solo con los datos de 2018 (EJERCICIO)\n",
    "# Crear una serie sin 2018 (EJERCICIO)\n",
    "\n",
    "\n",
    "# Utilizar esta funcion para el ejercicio \n",
    "def mayor_a_2018(serie_valores, serie_a_comparar):\n",
    "    \"\"\"\n",
    "    serie_valores: Una serie con los valores que queremos comparar\n",
    "    serie_a_comparar: Una serie de los 12 meses de 2018\n",
    "    Regresa una serie con las entradas de serie_valores que son mayor a los meses correspondientes de\n",
    "    serie_a_comparar \n",
    "    \"\"\"\n",
    "    indices = []\n",
    "    datos = []\n",
    "    for k, v in serie_valores.items():\n",
    "        mes = k[0]\n",
    "        if v > serie_a_comparar[mes][2018]:\n",
    "            indices.append(k)\n",
    "            datos.append(v)\n",
    "    multi_indice = pd.MultiIndex.from_tuples(indices)\n",
    "    return pd.Series(data=datos, index=multi_indice)\n",
    "\n",
    "\n",
    "# Llamar funcion\n",
    "mayor_a_2018()  # Poner las series creadas aqui"
   ]
  },
  {
   "cell_type": "markdown",
   "metadata": {},
   "source": [
    "## Trabajando con un file csv. "
   ]
  },
  {
   "cell_type": "code",
   "execution_count": 22,
   "metadata": {
    "collapsed": true
   },
   "outputs": [
    {
     "name": "stdout",
     "output_type": "stream",
     "text": [
      "Month\n1960-01     6550.0\n1960-02     8728.0\n1960-03    12026.0\n1960-04    14395.0\n1960-05    14587.0\nName: Monthly car sales in Quebec 1960-1968, dtype: float64\nMonth\n1968-09                                  14385.0\n1968-10                                  21342.0\n1968-11                                  17180.0\n1968-12                                  14577.0\nMonthly car sales in Quebec 1960-1968        NaN\nName: Monthly car sales in Quebec 1960-1968, dtype: float64\n"
     ]
    }
   ],
   "source": [
    "# Abrir file y crear serie de file\n",
    "file = \"https://raw.githubusercontent.com/pandolf99/Ejercicios_ciencia_de_datos/master/monthly-car-sales-in-quebec-1960.csv\"\n",
    "serie_carros = pd.read_csv(file, index_col=0, squeeze=True)  # Comando para crear una serie de un file\n",
    "# csv. Se usa index_col para utilizar el nombre que viene en el documento. \n",
    "# Revisar el principio y el final\n",
    "print(serie_carros.head())\n",
    "print(serie_carros.tail())"
   ]
  },
  {
   "cell_type": "markdown",
   "metadata": {},
   "source": [
    "### Los datos reales muchas veces son imperfectos.\n",
    "### Por ejemplo este no tiene las fechas en el tipo de data de tiempo de pandas (time_stamp) y el ultimo indice no es una fecha\n",
    "### Hay que limpiarlos"
   ]
  },
  {
   "cell_type": "code",
   "execution_count": 23,
   "metadata": {
    "collapsed": false
   },
   "outputs": [
    {
     "data": {
      "text/plain": [
       "Month\n1968-08-31    16722.0\n1968-09-30    14385.0\n1968-10-31    21342.0\n1968-11-30    17180.0\n1968-12-31    14577.0\nFreq: M, Name: Monthly car sales in Quebec 1960-1968, dtype: float64"
      ]
     },
     "execution_count": 23,
     "metadata": {},
     "output_type": "execute_result"
    }
   ],
   "source": [
    "# Remover el ultimo indice que no contiene datos\n",
    "serie_carros = serie_carros.dropna()\n",
    "# Convertir a tipo de tiempo y cambiar la frecuencia a final de mes\n",
    "# Usar mean para llenar los indices de final de mes con los valores de principio de mes\n",
    "serie_carros.index = pd.to_datetime(serie_carros.index)\n",
    "serie_carros = serie_carros.resample(\"M\").mean()\n",
    "serie_carros.tail()"
   ]
  },
  {
   "cell_type": "markdown",
   "metadata": {},
   "source": [
    "## Ejercicio 4\n",
    "### Encontrar los seis meses de cada año con las mayores ventas de cada año y crear una serie de multi_indice"
   ]
  },
  {
   "cell_type": "code",
   "execution_count": 24,
   "metadata": {},
   "outputs": [
    {
     "data": {
      "text/plain": [
       "1960  5     14587.0\n      4     14395.0\n      6     13791.0\n      3     12026.0\n      10     9545.0\n      7      9498.0\n      11     9364.0\n1961  5     15926.0\n      6     13821.0\n      4     13784.0\n      11    12759.0\n      3     11837.0\n      7     11143.0\n      10    10015.0\n1962  5     20900.0\n      4     17010.0\n      6     16205.0\n      3     15200.0\n      11    12256.0\n      7     12143.0\n      10    11474.0\nName: Monthly car sales in Quebec 1960-1968, dtype: float64"
      ]
     },
     "execution_count": 24,
     "metadata": {},
     "output_type": "execute_result"
    }
   ],
   "source": [
    "# Crear un multi-indice y asignarlo a la serie de carros. \n",
    "# Iterar a través de todos los años para encontrar los mayores 6\n",
    "lista = []\n",
    "for i in range(1960, 1969):\n",
    "    # Crear una serie con los valores ordenados de mayor a menor para cada año.\n",
    "    # Crear otra serie con los primeros seis valores de la serie\n",
    "    # Salvar los indices (meses) en una variable \n",
    "    # Crear un multi-indice con el año y los meses\n",
    "    # Asignar el indice a la serie creada \n",
    "    lista.append()  # Poner serie aqui.\n",
    "# Pegar las series de la lista\n",
    "serie_6_mayores = pd.concat(lista)\n",
    "# Mostrar los años 1960-1962"
   ]
  },
  {
   "cell_type": "markdown",
   "metadata": {},
   "source": [
    "## Ejercicio 5\n",
    "### Encontrar los meses de cada año (empezando con 1961) que tienen un valor menor al mes correspondiente del año pasado y crear una serie multi-indice. "
   ]
  },
  {
   "cell_type": "code",
   "execution_count": 39,
   "metadata": {},
   "outputs": [
    {
     "data": {
      "text/plain": [
       "1961  3     11837.0\n      4     13784.0\n      8      7975.0\n1962  9      5568.0\n      11    12256.0\n1963  3     14405.0\n      5     20128.0\n      8      8642.0\n1964  11    13754.0\n      12    11738.0\n1965  1     12181.0\n1966  2     12760.0\n      4     22135.0\n      5     20677.0\n      6     19933.0\n      10    16135.0\n      11    17562.0\n      12    14720.0\n1967  1     12225.0\n      2     11608.0\n      4     19692.0\n      7     14220.0\n      8     13434.0\n      11    16119.0\n      12    13713.0\n1968  3     20139.0\n      6     21084.0\nName: Monthly car sales in Quebec 1960-1968, dtype: float64"
      ]
     },
     "execution_count": 39,
     "metadata": {},
     "output_type": "execute_result"
    }
   ],
   "source": [
    "lista = []\n",
    "for i in range(1960, 1968):\n",
    "    lista_local = []\n",
    "    # Crear una serie del año pasado y una del año actual (Empezar con 1961 para el actual)\n",
    "    for ix in range(1, 13):\n",
    "        if: # Comparar los valores de la serie pasada con los valores de la serie actual. \n",
    "            lista_local.append() # Meter en la lista local las entradas de serie que son menores\n",
    "    # Crear una serie pegando todas las series que pasaron la condición. \n",
    "    # Guardar los meses en una variable local \n",
    "    # Crear un multi-indice para la serie usando los meses. \n",
    "    lista.append() # Meter la serie aqui. \n",
    "# Pegar todas las series \n",
    "serie_final = pd.concat(lista) \n",
    "serie_final"
   ]
  },
  {
   "cell_type": "code",
   "execution_count": null,
   "metadata": {},
   "outputs": [],
   "source": []
  }
 ],
 "metadata": {
  "kernelspec": {
   "display_name": "Python 2",
   "language": "python",
   "name": "python2"
  },
  "language_info": {
   "codemirror_mode": {
    "name": "ipython",
    "version": 2
   },
   "file_extension": ".py",
   "mimetype": "text/x-python",
   "name": "python",
   "nbconvert_exporter": "python",
   "pygments_lexer": "ipython2",
   "version": "2.7.6"
  }
 },
 "nbformat": 4,
 "nbformat_minor": 0
}
